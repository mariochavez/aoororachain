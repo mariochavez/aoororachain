{
 "cells": [
  {
   "cell_type": "markdown",
   "id": "2dc0a704",
   "metadata": {},
   "source": [
    "# Aoororachain - Perform QA Retrieval with Open Source LLM"
   ]
  },
  {
   "cell_type": "markdown",
   "id": "725b04a9",
   "metadata": {},
   "source": [
    "Given that you already have your documents loaded into a vector database, then you can start query them with an Open Source LLM."
   ]
  },
  {
   "cell_type": "code",
   "execution_count": null,
   "id": "694f3168",
   "metadata": {},
   "outputs": [],
   "source": [
    "require \"aoororachain\""
   ]
  },
  {
   "cell_type": "markdown",
   "id": "6de7fc5a",
   "metadata": {},
   "source": [
    "## Configuration"
   ]
  },
  {
   "cell_type": "code",
   "execution_count": null,
   "id": "f34f0537",
   "metadata": {},
   "outputs": [],
   "source": [
    "Aoororachain.logger = Logger.new($stdout)\n",
    "Aoororachain.log_level = Aoororachain::LEVEL_DEBUG\n",
    "\n",
    "chroma_host = \"http://localhost:8000\"\n",
    "collection_name = \"prestavaro\""
   ]
  },
  {
   "cell_type": "markdown",
   "id": "118aad2c",
   "metadata": {},
   "source": [
    "The model needs to be that same you used to embed your documents."
   ]
  },
  {
   "cell_type": "code",
   "execution_count": null,
   "id": "e3da93db",
   "metadata": {},
   "outputs": [],
   "source": [
    "model = Aoororachain::Embeddings::LocalPythonEmbedding::MODEL_INSTRUCTOR_L\n",
    "device = \"mps\" # cuda or cpu"
   ]
  },
  {
   "cell_type": "code",
   "execution_count": null,
   "id": "a08b53bf",
   "metadata": {},
   "outputs": [],
   "source": [
    "embedder = Aoororachain::Embeddings::LocalPythonEmbedding.new(model:, device:)\n",
    "vector_database = Aoororachain::VectorStores::Chroma.new(embedder: embedder, options: {host: chroma_host})\n",
    "\n",
    "vector_database.from_index(collection_name)\n",
    "\n",
    "retriever = Aoororachain::VectorStores::Retriever.new(vector_database)"
   ]
  },
  {
   "cell_type": "markdown",
   "id": "fbcd0e30",
   "metadata": {},
   "source": [
    "# QA Retrieval with LLM"
   ]
  },
  {
   "cell_type": "markdown",
   "id": "3d71bf45",
   "metadata": {},
   "source": [
    "Start your LLM Server and set the host. Configure the chain."
   ]
  },
  {
   "cell_type": "code",
   "execution_count": 5,
   "id": "a3bd7678",
   "metadata": {},
   "outputs": [
    {
     "data": {
      "text/plain": [
       "#<Aoororachain::Chains::RetrievalQA:0x000000010480ea80 @llm=#<Aoororachain::Llms::LlamaServer:0x000000010480edc8>, @retriever=#<Aoororachain::VectorStores::Retriever:0x00000001047e4a78 @vector_store=#<Aoororachain::VectorStores::Chroma:0x00000001047ef0b8 @embedder=#<Aoororachain::Embeddings::LocalPythonEmbedding:0x00000001047c2748 @model=\"hkunlp/instructor-large\", @device=\"mps\">, @store=#<Chroma::Resources::Collection:0x00000001047e4b18 @id=\"b3f2ff9f-c359-45e9-9f8f-d62c99c465fd\", @name=\"ley-fintech\", @metadata={\"embedder\"=>\"Aoororachain::Embeddings::LocalPythonEmbedding : hkunlp/instructor-large : mps\"}>>, @search_type=:similarity, @results=3>, @type=:stuff>"
      ]
     },
     "execution_count": 5,
     "metadata": {},
     "output_type": "execute_result"
    }
   ],
   "source": [
    "llm = Aoororachain::Llms::LlamaServer.new(\"http://localhost:9292\")\n",
    "chain = Aoororachain::Chains::RetrievalQA.new(llm, retriever)"
   ]
  },
  {
   "cell_type": "code",
   "execution_count": null,
   "id": "a8304411",
   "metadata": {},
   "outputs": [],
   "source": [
    "response = chain.complete(prompt: \"¿Como puedo pagar?\")"
   ]
  },
  {
   "cell_type": "code",
   "execution_count": 7,
   "id": "e39a0fb5",
   "metadata": {},
   "outputs": [
    {
     "data": {
      "text/plain": [
       "{:response=>\"  Asistente: Una institución de tecnología financiera (ITF) es un tipo de entidad financiera que utiliza tecnologías avanzadas para ofrecer servicios financieros, como préstamos, inversiones y gestión de activos. Estas instituciones se enfocan en la innovación y el uso de herramientas digitales para mejorar la eficiencia y accesibilidad del sector financiero.\", :sources=>[{\"source\"=>\"./files/LRITF_200521.pdf\", \"pages\"=>71, \"page\"=>6}, {\"source\"=>\"./files/LRITF_200521.pdf\", \"pages\"=>71, \"page\"=>55}, {\"source\"=>\"./files/LRITF_200521.pdf\", \"pages\"=>71, \"page\"=>11}]}"
      ]
     },
     "execution_count": 7,
     "metadata": {},
     "output_type": "execute_result"
    }
   ],
   "source": [
    "response"
   ]
  },
  {
   "cell_type": "code",
   "execution_count": null,
   "id": "05c79a7b",
   "metadata": {},
   "outputs": [],
   "source": []
  }
 ],
 "metadata": {
  "kernelspec": {
   "display_name": "Ruby 3.2.2",
   "language": "ruby",
   "name": "ruby"
  },
  "language_info": {
   "file_extension": ".rb",
   "mimetype": "application/x-ruby",
   "name": "ruby",
   "version": "3.2.2"
  }
 },
 "nbformat": 4,
 "nbformat_minor": 5
}
